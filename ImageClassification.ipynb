{
 "cells": [
  {
   "cell_type": "markdown",
   "metadata": {},
   "source": [
    "## Image Classification using Neural Networks"
   ]
  },
  {
   "cell_type": "code",
   "execution_count": 1,
   "metadata": {
    "id": "QKO5K4FpuerS"
   },
   "outputs": [],
   "source": [
    "# Importing the libraries\n",
    "\n",
    "# Importing libraries used for plotting\n",
    "import matplotlib as mpl\n",
    "import matplotlib.pyplot as plt\n",
    "import matplotlib.pylab as pylab\n",
    "# Importing maths and array libraries\n",
    "import numpy as np\n",
    "import pandas as pd\n",
    "import math \n",
    "# Importing for computing the time \n",
    "import time\n",
    "\n",
    "# Import random library\n",
    "import random\n",
    "\n",
    "# Importing for preprocessing and splitting the dataset\n",
    "from sklearn.preprocessing import Normalizer , scale\n",
    "from sklearn.model_selection import train_test_split\n",
    "from sklearn import metrics\n",
    "\n",
    "# importing Keras Libraries for model creation\n",
    "from keras.layers import Dense, Dropout, Flatten, Conv2D, MaxPooling2D, BatchNormalization\n",
    "from keras.optimizers import Adam,SGD,Adagrad,Adadelta,RMSprop\n",
    "from keras.models import Sequential, load_model\n",
    "from tensorflow.keras.utils import to_categorical\n",
    "from keras.preprocessing.image import ImageDataGenerator\n",
    "from keras.callbacks import ReduceLROnPlateau, LearningRateScheduler\n",
    "\n",
    "#importing Keras 'cifar10' dataset library\n",
    "from keras.datasets import cifar10"
   ]
  },
  {
   "cell_type": "code",
   "execution_count": 2,
   "metadata": {
    "colab": {
     "base_uri": "https://localhost:8080/"
    },
    "id": "TGfQL9s6vwQO",
    "outputId": "b5ea8b49-1a2b-405e-ec17-1c1a22f39d78"
   },
   "outputs": [
    {
     "name": "stdout",
     "output_type": "stream",
     "text": [
      "Train dataset\n",
      "X = (50000, 32, 32, 3), y = (50000, 1)\n",
      "Test dataset\n",
      "X = (10000, 32, 32, 3), y = (10000, 1)\n"
     ]
    }
   ],
   "source": [
    "# loading the dataset\n",
    "(X_train, y_train), (X_test, y_test) = cifar10.load_data()\n",
    "# Shape of the train and test dataset\n",
    "print('Train dataset')\n",
    "print('X = '+ str(X_train.shape) + ', y = '+ str(y_train.shape))\n",
    "print('Test dataset')\n",
    "print('X = '+ str(X_test.shape) + ', y = '+ str(y_test.shape))"
   ]
  },
  {
   "cell_type": "code",
   "execution_count": 4,
   "metadata": {
    "id": "CbfNkZuPDnu_"
   },
   "outputs": [],
   "source": [
    "# Randomly sample 20% of the training set\n",
    "combine_train_set = list(zip(X_train, y_train))\n",
    "# 20% of 50000 records of is 10000\n",
    "random_train_set = random.sample(combine_train_set, 10000)\n",
    "\n",
    "final_X_train = []\n",
    "final_y_train = []\n",
    "for xi,yi in random_train_set :\n",
    "    final_X_train.append(xi)\n",
    "    final_y_train.append(yi)\n",
    "    \n",
    "final_X_train = np.array(final_X_train)\n",
    "final_y_train = np.array(final_y_train)"
   ]
  },
  {
   "cell_type": "markdown",
   "metadata": {
    "id": "AXr0Mw2UGm1I"
   },
   "source": [
    "## **Preprocessing step**"
   ]
  },
  {
   "cell_type": "markdown",
   "metadata": {
    "id": "SI-Ku7e4INap"
   },
   "source": [
    "Before creating a network and training the model, it is important to normalize the data. Therefore, we have used the Min-Max normalization technique as we have an image data. So, minimum value of the pixel is 0 , while maximum value of pixels is about 255 (for individual RBG layers)"
   ]
  },
  {
   "cell_type": "code",
   "execution_count": 5,
   "metadata": {
    "id": "71gNlE6RGcS1"
   },
   "outputs": [],
   "source": [
    "# Normalize input images\n",
    "#Dividing every value with 255 to make it mormalize between 0 and 1\n",
    "X_train_norm = final_X_train.astype(\"float32\")/255\n",
    "X_test_norm = X_test.astype(\"float32\")/255"
   ]
  },
  {
   "cell_type": "markdown",
   "metadata": {
    "id": "VqvgT4WukLHX"
   },
   "source": [
    "We are using One Hot Encoding which will make the classification task easy"
   ]
  },
  {
   "cell_type": "code",
   "execution_count": 6,
   "metadata": {
    "id": "JwL3bn0PHj6Q"
   },
   "outputs": [],
   "source": [
    "# One - hot encoding the labels to simplify the task\n",
    "y_train_encoding = to_categorical(final_y_train, num_classes=10)\n",
    "y_test_encoding = to_categorical(y_test, num_classes=10)"
   ]
  },
  {
   "cell_type": "code",
   "execution_count": 7,
   "metadata": {
    "colab": {
     "base_uri": "https://localhost:8080/"
    },
    "id": "fjG-CeaAljd1",
    "outputId": "353c6828-14ec-4c2b-f58c-4e6537cad98c"
   },
   "outputs": [
    {
     "data": {
      "text/plain": [
       "(10000, 32, 32, 3)"
      ]
     },
     "execution_count": 7,
     "metadata": {},
     "output_type": "execute_result"
    }
   ],
   "source": [
    "X_train_norm.shape"
   ]
  },
  {
   "cell_type": "markdown",
   "metadata": {
    "id": "DhayQnyykoqs"
   },
   "source": [
    "## **Part 1) MLP**"
   ]
  },
  {
   "cell_type": "markdown",
   "metadata": {
    "id": "QAbexo1ilLjk"
   },
   "source": [
    "### a) Building a multi-layer perceptron (as per problem statement)\n",
    "\n",
    "\n",
    "*   Fully connected layer with 512 units and a sigmoid activation function\n",
    "*   Fully connected layer with 512 units and a sigmoid activation function\n",
    "*   Output layer with the suitable activation function and number of neurons for the classification task\n"
   ]
  },
  {
   "cell_type": "code",
   "execution_count": 8,
   "metadata": {
    "id": "Icwk-2QclJsN"
   },
   "outputs": [],
   "source": [
    "# Creating the MLP model\n",
    "mlp = Sequential()\n",
    "mlp.add(Flatten(input_shape = X_train_norm.shape[1:]))\n",
    "mlp.add(Dense(512, activation='sigmoid'))\n",
    "mlp.add(Dense(512, activation='sigmoid'))\n",
    "mlp.add(Dense(10, activation='softmax'))"
   ]
  },
  {
   "cell_type": "code",
   "execution_count": 9,
   "metadata": {
    "id": "5WT_nLs3knGz"
   },
   "outputs": [],
   "source": [
    "# compiling the model\n",
    "mlp.compile(loss='categorical_crossentropy', optimizer='adam', metrics=['accuracy'])"
   ]
  },
  {
   "cell_type": "code",
   "execution_count": 10,
   "metadata": {
    "colab": {
     "base_uri": "https://localhost:8080/"
    },
    "id": "vYNnnJpEjc-w",
    "outputId": "a6f1ac31-9dec-4a4b-8894-049548f97a61"
   },
   "outputs": [
    {
     "name": "stdout",
     "output_type": "stream",
     "text": [
      "Epoch 1/5\n",
      "313/313 [==============================] - 7s 18ms/step - loss: 2.1667 - accuracy: 0.2009 - val_loss: 1.8925 - val_accuracy: 0.3149\n",
      "Epoch 2/5\n",
      "313/313 [==============================] - 5s 17ms/step - loss: 1.8978 - accuracy: 0.3117 - val_loss: 1.8662 - val_accuracy: 0.3326\n",
      "Epoch 3/5\n",
      "313/313 [==============================] - 5s 17ms/step - loss: 1.8399 - accuracy: 0.3470 - val_loss: 1.8404 - val_accuracy: 0.3389\n",
      "Epoch 4/5\n",
      "313/313 [==============================] - 6s 19ms/step - loss: 1.8109 - accuracy: 0.3490 - val_loss: 1.7667 - val_accuracy: 0.3594\n",
      "Epoch 5/5\n",
      "313/313 [==============================] - 6s 18ms/step - loss: 1.7793 - accuracy: 0.3543 - val_loss: 1.7855 - val_accuracy: 0.3430\n"
     ]
    }
   ],
   "source": [
    "# Trainging the model as per given problem statement parameters\n",
    "mlp_model = mlp.fit(X_train_norm, y_train_encoding,validation_data = (X_test_norm, y_test_encoding), batch_size=32, epochs= 5)"
   ]
  },
  {
   "cell_type": "markdown",
   "metadata": {
    "id": "DVK6iePFnzb7"
   },
   "source": [
    "### Output layer\n",
    "- In the output, the layer uses the number of units as per the number of classes in the dataset. Here we are using 10, as there are 10 different classes in the CIFAR-10 dataset.\n",
    "- Apart from this, in the output we use SOFTMAX activation functions as it gives the probabilities of each class.\n",
    "- Softmax function is always the prefered option when we are dealing with multi-class/ multi-label situations. \n",
    "- The reason why Softmax is prefered because it behaves similar to the max-output layer( Where the best prediction is if the probability is 1.0 for a single output node, and probability of rest of the output nodes is zero).  Due to this behavious and also since it is differentiable, this makes it an asset by perfroming gradient desecnt in multi-class problems.\n",
    "\n"
   ]
  },
  {
   "cell_type": "markdown",
   "metadata": {
    "id": "GIfpnriRpxQ2"
   },
   "source": [
    "### Loss function\n",
    "- While compiling the model, we need to take into account the loss function depending on the dataset.\n",
    "- Categorical Cross-Entropy is a default loss function used when a label or part can have multiple classes\n",
    "- Cross-entropy tabulates a score that summarizes the average difference between the actual and predicted probability distributions for all the classes.\n",
    "- It is imporant to know that, this works in conjunction with the softmax function defined previously, in order to predict the probability for each class."
   ]
  },
  {
   "cell_type": "markdown",
   "metadata": {
    "id": "QluC3Xk7xz_s"
   },
   "source": [
    "### Plotting the training and validation accuracies of the MLP model"
   ]
  },
  {
   "cell_type": "code",
   "execution_count": 11,
   "metadata": {
    "colab": {
     "base_uri": "https://localhost:8080/",
     "height": 294
    },
    "id": "HhJfgSV9mjEK",
    "outputId": "cc8e7d4c-c208-415d-c47a-a545b08d54da"
   },
   "outputs": [
    {
     "data": {
      "image/png": "[encoded data removed]",
      "text/plain": [
       "<Figure size 432x288 with 1 Axes>"
      ]
     },
     "metadata": {
      "needs_background": "light"
     },
     "output_type": "display_data"
    }
   ],
   "source": [
    "#Plot the MLP model loss\n",
    "plt.plot(mlp_model.history['loss'])\n",
    "plt.plot(mlp_model.history['val_loss'])\n",
    "plt.legend(['Train', 'Test'])\n",
    "plt.xlabel('Epochs')\n",
    "plt.ylabel('Loss')\n",
    "plt.title(\"Model Loss\")\n",
    "plt.show()"
   ]
  },
  {
   "cell_type": "code",
   "execution_count": 12,
   "metadata": {
    "colab": {
     "base_uri": "https://localhost:8080/",
     "height": 294
    },
    "id": "hw575TjjmkRo",
    "outputId": "b72f6307-fcfc-4069-cc54-768e02e2c6d3"
   },
   "outputs": [
    {
     "data": {
      "image/png": "[encoded data removed]",
      "text/plain": [
       "<Figure size 432x288 with 1 Axes>"
      ]
     },
     "metadata": {
      "needs_background": "light"
     },
     "output_type": "display_data"
    }
   ],
   "source": [
    "# Plot the MLP model accuracy\n",
    "plt.plot(mlp_model.history['accuracy'])\n",
    "plt.plot(mlp_model.history['val_accuracy'])\n",
    "plt.legend(['Train', 'Test'])\n",
    "plt.xlabel('Epochs')\n",
    "plt.ylabel('Accuracy')\n",
    "plt.title(\"Model Accuracy\")\n",
    "plt.show()"
   ]
  },
  {
   "cell_type": "markdown",
   "metadata": {
    "id": "qZ4a8yEcyQmM"
   },
   "source": [
    "###  Comments on the above model :-\n",
    "\n",
    "\n",
    "*   From the above plots, it can be seen that the model loss of both the training and validation data drops at the same rate.\n",
    "*   In terms of the accuracy, the accuracy for both the sets keeps increaing at a steady rate.\n"
   ]
  },
  {
   "cell_type": "markdown",
   "metadata": {
    "id": "OBAocRwuy7lM"
   },
   "source": [
    "# b) Increasing the number of layers in MLP model"
   ]
  },
  {
   "cell_type": "markdown",
   "metadata": {
    "id": "WsKjiMEj0pdv"
   },
   "source": [
    "**Creating the MLP model with 3 hidden layers**"
   ]
  },
  {
   "cell_type": "code",
   "execution_count": 13,
   "metadata": {
    "id": "vMbDoKtqzOSE"
   },
   "outputs": [],
   "source": [
    "# Creating the MLP model with 3 hidden layers \n",
    "mlp = Sequential()\n",
    "mlp.add(Flatten(input_shape = X_train_norm.shape[1:]))\n",
    "mlp.add(Dense(512, activation='sigmoid'))\n",
    "mlp.add(Dense(512, activation='sigmoid'))\n",
    "mlp.add(Dense(512, activation='sigmoid'))\n",
    "mlp.add(Dense(10, activation='softmax'))"
   ]
  },
  {
   "cell_type": "code",
   "execution_count": 14,
   "metadata": {
    "id": "68XqrqrIzevd"
   },
   "outputs": [],
   "source": [
    "# compile the model\n",
    "mlp.compile(loss='categorical_crossentropy', optimizer='adam', metrics=['accuracy'])"
   ]
  },
  {
   "cell_type": "code",
   "execution_count": 15,
   "metadata": {
    "colab": {
     "base_uri": "https://localhost:8080/"
    },
    "id": "T3X_I3HRzj18",
    "outputId": "f9ff0150-c60b-49dc-dc04-7f24bdf3d40c"
   },
   "outputs": [
    {
     "name": "stdout",
     "output_type": "stream",
     "text": [
      "Epoch 1/5\n",
      "313/313 [==============================] - 6s 19ms/step - loss: 2.2271 - accuracy: 0.1566 - val_loss: 1.9851 - val_accuracy: 0.2518\n",
      "Epoch 2/5\n",
      "313/313 [==============================] - 6s 20ms/step - loss: 1.9825 - accuracy: 0.2615 - val_loss: 1.9463 - val_accuracy: 0.2691\n",
      "Epoch 3/5\n",
      "313/313 [==============================] - 6s 20ms/step - loss: 1.8892 - accuracy: 0.3122 - val_loss: 1.8246 - val_accuracy: 0.3332\n",
      "Epoch 4/5\n",
      "313/313 [==============================] - 6s 20ms/step - loss: 1.8596 - accuracy: 0.3220 - val_loss: 1.8953 - val_accuracy: 0.3081 0s\n",
      "Epoch 5/5\n",
      "313/313 [==============================] - 6s 20ms/step - loss: 1.8261 - accuracy: 0.3377 - val_loss: 1.8258 - val_accuracy: 0.3363\n"
     ]
    }
   ],
   "source": [
    "# Trainging the model as per given problem statement parameters\n",
    "mlp_model = mlp.fit(X_train_norm, y_train_encoding,validation_data = (X_test_norm, y_test_encoding), batch_size=32, epochs= 5)"
   ]
  },
  {
   "cell_type": "markdown",
   "metadata": {
    "id": "eo77OU5xzuPt"
   },
   "source": [
    "**Creating the MLP model with 4 hidden layers**"
   ]
  },
  {
   "cell_type": "code",
   "execution_count": 16,
   "metadata": {
    "colab": {
     "base_uri": "https://localhost:8080/"
    },
    "id": "glbymRwzzujN",
    "outputId": "62d1dd4c-d713-4dee-cf9d-25eb3d29c3b9"
   },
   "outputs": [
    {
     "name": "stdout",
     "output_type": "stream",
     "text": [
      "Epoch 1/5\n",
      "313/313 [==============================] - 8s 24ms/step - loss: 2.3208 - accuracy: 0.1229 - val_loss: 2.0537 - val_accuracy: 0.2190\n",
      "Epoch 2/5\n",
      "313/313 [==============================] - 7s 23ms/step - loss: 2.0372 - accuracy: 0.2271 - val_loss: 1.9847 - val_accuracy: 0.2321\n",
      "Epoch 3/5\n",
      "313/313 [==============================] - 8s 24ms/step - loss: 1.9679 - accuracy: 0.2696 - val_loss: 1.9570 - val_accuracy: 0.2814\n",
      "Epoch 4/5\n",
      "313/313 [==============================] - 7s 22ms/step - loss: 1.9163 - accuracy: 0.2923 - val_loss: 1.9041 - val_accuracy: 0.2885\n",
      "Epoch 5/5\n",
      "313/313 [==============================] - 7s 23ms/step - loss: 1.8830 - accuracy: 0.3123 - val_loss: 2.0584 - val_accuracy: 0.2393\n"
     ]
    }
   ],
   "source": [
    "# Creating the MLP model with 4 hidden layers \n",
    "mlp = Sequential()\n",
    "mlp.add(Flatten(input_shape = X_train_norm.shape[1:]))\n",
    "mlp.add(Dense(512, activation='sigmoid'))\n",
    "mlp.add(Dense(512, activation='sigmoid'))\n",
    "mlp.add(Dense(512, activation='sigmoid'))\n",
    "mlp.add(Dense(512, activation='sigmoid'))\n",
    "mlp.add(Dense(10, activation='softmax'))\n",
    "# compile the model\n",
    "mlp.compile(loss='categorical_crossentropy', optimizer='adam', metrics=['accuracy'])\n",
    "# Trainging the model as per given problem statement parameters\n",
    "mlp_model = mlp.fit(X_train_norm, y_train_encoding,validation_data = (X_test_norm, y_test_encoding), batch_size=32, epochs= 5)"
   ]
  },
  {
   "cell_type": "markdown",
   "metadata": {
    "id": "K8EyDcLIz4Gt"
   },
   "source": [
    "**Creating the MLP model with 5 hidden layers**"
   ]
  },
  {
   "cell_type": "code",
   "execution_count": 17,
   "metadata": {
    "colab": {
     "base_uri": "https://localhost:8080/"
    },
    "id": "Yfhsp420z4jT",
    "outputId": "2d99c3b3-6c20-4914-d87c-12a8067f63f7"
   },
   "outputs": [
    {
     "name": "stdout",
     "output_type": "stream",
     "text": [
      "Epoch 1/5\n",
      "313/313 [==============================] - 8s 25ms/step - loss: 2.3460 - accuracy: 0.1220 - val_loss: 2.1414 - val_accuracy: 0.1774\n",
      "Epoch 2/5\n",
      "313/313 [==============================] - 8s 25ms/step - loss: 2.1122 - accuracy: 0.1712 - val_loss: 2.0978 - val_accuracy: 0.1603\n",
      "Epoch 3/5\n",
      "313/313 [==============================] - 7s 24ms/step - loss: 2.0951 - accuracy: 0.1742 - val_loss: 2.0399 - val_accuracy: 0.2031\n",
      "Epoch 4/5\n",
      "313/313 [==============================] - 8s 25ms/step - loss: 2.0702 - accuracy: 0.1860 - val_loss: 2.0559 - val_accuracy: 0.1942\n",
      "Epoch 5/5\n",
      "313/313 [==============================] - 8s 25ms/step - loss: 2.0637 - accuracy: 0.1858 - val_loss: 2.0608 - val_accuracy: 0.1982\n"
     ]
    }
   ],
   "source": [
    "# Creating the MLP model with 5 hidden layers \n",
    "mlp = Sequential()\n",
    "mlp.add(Flatten(input_shape = X_train_norm.shape[1:]))\n",
    "mlp.add(Dense(512, activation='sigmoid'))\n",
    "mlp.add(Dense(512, activation='sigmoid'))\n",
    "mlp.add(Dense(512, activation='sigmoid'))\n",
    "mlp.add(Dense(512, activation='sigmoid'))\n",
    "mlp.add(Dense(512, activation='sigmoid'))\n",
    "mlp.add(Dense(10, activation='softmax'))\n",
    "# compile the model\n",
    "mlp.compile(loss='categorical_crossentropy', optimizer='adam', metrics=['accuracy'])\n",
    "# Trainging the model as per given problem statement parameters\n",
    "mlp_model = mlp.fit(X_train_norm, y_train_encoding,validation_data = (X_test_norm, y_test_encoding), batch_size=32, epochs= 5)"
   ]
  },
  {
   "cell_type": "markdown",
   "metadata": {
    "id": "tjw6ITJpz8bF"
   },
   "source": [
    "**Creating the MLP model with 6 hidden layers**"
   ]
  },
  {
   "cell_type": "code",
   "execution_count": 18,
   "metadata": {
    "colab": {
     "base_uri": "https://localhost:8080/"
    },
    "id": "s5C01hBLz8xk",
    "outputId": "d6d11c58-2f3b-4106-95f7-6900256992aa"
   },
   "outputs": [
    {
     "name": "stdout",
     "output_type": "stream",
     "text": [
      "Epoch 1/5\n",
      "313/313 [==============================] - 9s 26ms/step - loss: 2.3389 - accuracy: 0.1102 - val_loss: 2.1471 - val_accuracy: 0.1555\n",
      "Epoch 2/5\n",
      "313/313 [==============================] - 8s 27ms/step - loss: 2.1329 - accuracy: 0.1700 - val_loss: 2.0735 - val_accuracy: 0.1911\n",
      "Epoch 3/5\n",
      "313/313 [==============================] - 8s 27ms/step - loss: 2.0841 - accuracy: 0.1797 - val_loss: 2.0508 - val_accuracy: 0.1909\n",
      "Epoch 4/5\n",
      "313/313 [==============================] - 9s 27ms/step - loss: 2.0937 - accuracy: 0.1901 - val_loss: 2.0862 - val_accuracy: 0.1816\n",
      "Epoch 5/5\n",
      "313/313 [==============================] - 9s 27ms/step - loss: 2.0798 - accuracy: 0.1858 - val_loss: 2.1096 - val_accuracy: 0.1860\n"
     ]
    }
   ],
   "source": [
    "# Creating the MLP model with 6 hidden layers \n",
    "mlp = Sequential()\n",
    "mlp.add(Flatten(input_shape = X_train_norm.shape[1:]))\n",
    "mlp.add(Dense(512, activation='sigmoid'))\n",
    "mlp.add(Dense(512, activation='sigmoid'))\n",
    "mlp.add(Dense(512, activation='sigmoid'))\n",
    "mlp.add(Dense(512, activation='sigmoid'))\n",
    "mlp.add(Dense(512, activation='sigmoid'))\n",
    "mlp.add(Dense(512, activation='sigmoid'))\n",
    "mlp.add(Dense(10, activation='softmax'))\n",
    "# compile the model\n",
    "mlp.compile(loss='categorical_crossentropy', optimizer='adam', metrics=['accuracy'])\n",
    "# Trainging the model as per given problem statement parameters\n",
    "mlp_model = mlp.fit(X_train_norm, y_train_encoding,validation_data = (X_test_norm, y_test_encoding), batch_size=32, epochs= 5)"
   ]
  },
  {
   "cell_type": "markdown",
   "metadata": {
    "id": "DlWdyzny0VrI"
   },
   "source": [
    "### Comments on increasing the number of layers in MLP model :-\n",
    "- We have increased the number hidden layers while keeping the same number of units i.e 512 to compare the performance of the model.\n",
    "\n",
    "| Number of Hidden Layers | Train Accuracy | Validation Accuracy | Train Loss | Validation Loss\n",
    "| :-: | :-: | :-: | :-: | :-: |\n",
    "| 3 | 30% | 31% | 1.88 | 1.84 |\n",
    "| 4 | 25% | 29% | 1.94 | 1.92 |\n",
    "| 5 | 17% | 18% | 2.06 | 2.08 |\n",
    "| 6 | 17% | 12% | 2.05 | 2.27 |\n",
    "\n",
    "- From the above results we have seen that as the number of hidden layer increases, the training and validation accuracies of the model is kept decreasing over 5 epochs. the last model with 6 hidden layer performed the worst as compared to its previous respective models.\n",
    "- We can conclude that, the number of dense layers keep increasing, the model kept being overfitting.\n",
    "\n",
    "- Additonally, the rise in number of densely connected hidden layers can most probably lead to an exploding gradient too, therefore it essential to design an neural network, which isn't as densely connected as this one.  \n",
    "- Therefore, if we want the model to learn well, it is essential that we train the model over small sets of hidden layers, over much larger epochs, as opposed to the one presented in the question."
   ]
  },
  {
   "cell_type": "markdown",
   "metadata": {
    "id": "YHvirwde3hI-"
   },
   "source": [
    "### c) Increasing the number of neurons in MLP model with 2 hidden layer\n",
    "We will observe if this provides any form of improvement improvement .\n",
    " \n",
    "**i) MLP with two hidden layers (Initial model) each with 300 neurons**"
   ]
  },
  {
   "cell_type": "code",
   "execution_count": 19,
   "metadata": {
    "colab": {
     "base_uri": "https://localhost:8080/"
    },
    "id": "f2d5cuhE0EGO",
    "outputId": "ccd677dc-243a-401f-8e6f-382431d55c0f"
   },
   "outputs": [
    {
     "name": "stdout",
     "output_type": "stream",
     "text": [
      "Epoch 1/5\n",
      "313/313 [==============================] - 4s 12ms/step - loss: 2.1608 - accuracy: 0.2106 - val_loss: 1.9163 - val_accuracy: 0.3030\n",
      "Epoch 2/5\n",
      "313/313 [==============================] - 3s 11ms/step - loss: 1.9197 - accuracy: 0.2951 - val_loss: 1.8499 - val_accuracy: 0.3369\n",
      "Epoch 3/5\n",
      "313/313 [==============================] - 3s 11ms/step - loss: 1.8335 - accuracy: 0.3337 - val_loss: 1.8510 - val_accuracy: 0.3346\n",
      "Epoch 4/5\n",
      "313/313 [==============================] - 3s 11ms/step - loss: 1.7895 - accuracy: 0.3558 - val_loss: 1.7965 - val_accuracy: 0.3576\n",
      "Epoch 5/5\n",
      "313/313 [==============================] - 3s 11ms/step - loss: 1.7667 - accuracy: 0.3742 - val_loss: 1.7710 - val_accuracy: 0.3508\n"
     ]
    }
   ],
   "source": [
    "# Creating the MLP model with 300 neurons in the hidden layer layers \n",
    "mlp = Sequential()\n",
    "mlp.add(Flatten(input_shape = X_train_norm.shape[1:]))\n",
    "mlp.add(Dense(300, activation='sigmoid'))\n",
    "mlp.add(Dense(300, activation='sigmoid'))\n",
    "mlp.add(Dense(10, activation='softmax'))\n",
    "# compile the model\n",
    "mlp.compile(loss='categorical_crossentropy', optimizer='adam', metrics=['accuracy'])\n",
    "# Trainging the model as per given problem statement parameters\n",
    "mlp_model = mlp.fit(X_train_norm, y_train_encoding,validation_data = (X_test_norm, y_test_encoding), batch_size=32, epochs= 5)"
   ]
  },
  {
   "cell_type": "markdown",
   "metadata": {
    "id": "0nqegpQD4ODA"
   },
   "source": [
    "**Creating the MLP model with 450 neurons in the hidden layer**"
   ]
  },
  {
   "cell_type": "code",
   "execution_count": 20,
   "metadata": {
    "colab": {
     "base_uri": "https://localhost:8080/"
    },
    "id": "tRmvJI1I4OYa",
    "outputId": "a42e6835-e3df-4b8b-bc0a-da5f352af6e8"
   },
   "outputs": [
    {
     "name": "stdout",
     "output_type": "stream",
     "text": [
      "Epoch 1/5\n",
      "313/313 [==============================] - 6s 16ms/step - loss: 2.1801 - accuracy: 0.1956 - val_loss: 1.9398 - val_accuracy: 0.2880\n",
      "Epoch 2/5\n",
      "313/313 [==============================] - 5s 17ms/step - loss: 1.9181 - accuracy: 0.3088 - val_loss: 1.8268 - val_accuracy: 0.3331\n",
      "Epoch 3/5\n",
      "313/313 [==============================] - 5s 14ms/step - loss: 1.8372 - accuracy: 0.3400 - val_loss: 1.8509 - val_accuracy: 0.3391\n",
      "Epoch 4/5\n",
      "313/313 [==============================] - 5s 16ms/step - loss: 1.7841 - accuracy: 0.3588 - val_loss: 1.8473 - val_accuracy: 0.3118\n",
      "Epoch 5/5\n",
      "313/313 [==============================] - 4s 14ms/step - loss: 1.7770 - accuracy: 0.3587 - val_loss: 1.8146 - val_accuracy: 0.3491\n"
     ]
    }
   ],
   "source": [
    "# Creating the MLP model with 450 neurons in the hidden layer  \n",
    "mlp = Sequential()\n",
    "mlp.add(Flatten(input_shape = X_train_norm.shape[1:]))\n",
    "mlp.add(Dense(450, activation='sigmoid'))\n",
    "mlp.add(Dense(450, activation='sigmoid'))\n",
    "mlp.add(Dense(10, activation='softmax'))\n",
    "# compile the model\n",
    "mlp.compile(loss='categorical_crossentropy', optimizer='adam', metrics=['accuracy'])\n",
    "# Trainging the model as per given problem statement parameters\n",
    "mlp_model = mlp.fit(X_train_norm, y_train_encoding,validation_data = (X_test_norm, y_test_encoding), batch_size=32, epochs= 5)"
   ]
  },
  {
   "cell_type": "markdown",
   "metadata": {
    "id": "frFX27fu4UBH"
   },
   "source": [
    "**Creating the MLP model with 1024 neurons in the hidden layer**"
   ]
  },
  {
   "cell_type": "code",
   "execution_count": 20,
   "metadata": {
    "colab": {
     "base_uri": "https://localhost:8080/"
    },
    "id": "h-zKo9di4UWf",
    "outputId": "aecb3f65-689e-4257-e59a-a08d9fc36122"
   },
   "outputs": [
    {
     "name": "stdout",
     "output_type": "stream",
     "text": [
      "Epoch 1/5\n",
      "313/313 [==============================] - 15s 45ms/step - loss: 2.3032 - accuracy: 0.1664 - val_loss: 2.0043 - val_accuracy: 0.2537\n",
      "Epoch 2/5\n",
      "313/313 [==============================] - 14s 44ms/step - loss: 1.9523 - accuracy: 0.2792 - val_loss: 1.8639 - val_accuracy: 0.3194\n",
      "Epoch 3/5\n",
      "313/313 [==============================] - 14s 44ms/step - loss: 1.8937 - accuracy: 0.3014 - val_loss: 1.8469 - val_accuracy: 0.3297\n",
      "Epoch 4/5\n",
      "313/313 [==============================] - 14s 44ms/step - loss: 1.8311 - accuracy: 0.3287 - val_loss: 1.8611 - val_accuracy: 0.3323\n",
      "Epoch 5/5\n",
      "313/313 [==============================] - 14s 45ms/step - loss: 1.8040 - accuracy: 0.3377 - val_loss: 1.7900 - val_accuracy: 0.3525\n"
     ]
    }
   ],
   "source": [
    "# Creating the MLP model with 1024 neurons in the hidden layer layers  \n",
    "mlp = Sequential()\n",
    "mlp.add(Flatten(input_shape = X_train_norm.shape[1:]))\n",
    "mlp.add(Dense(1024, activation='sigmoid'))\n",
    "mlp.add(Dense(1024, activation='sigmoid'))\n",
    "mlp.add(Dense(10, activation='softmax'))\n",
    "# compile the model\n",
    "mlp.compile(loss='categorical_crossentropy', optimizer='adam', metrics=['accuracy'])\n",
    "# Trainging the model as per given problem statement parameters\n",
    "mlp_model = mlp.fit(X_train_norm, y_train_encoding,validation_data = (X_test_norm, y_test_encoding), batch_size=32, epochs= 5)"
   ]
  },
  {
   "cell_type": "markdown",
   "metadata": {
    "id": "OnfQtMye6VwM"
   },
   "source": [
    "**Creating the MLP model with 1536 neurons in the hidden layer**"
   ]
  },
  {
   "cell_type": "code",
   "execution_count": 21,
   "metadata": {
    "colab": {
     "base_uri": "https://localhost:8080/"
    },
    "id": "xHkArvep4Zs3",
    "outputId": "3ccd6d11-feff-46b1-a26c-39ddd16bb0b1"
   },
   "outputs": [
    {
     "name": "stdout",
     "output_type": "stream",
     "text": [
      "Epoch 1/5\n",
      "313/313 [==============================] - 25s 78ms/step - loss: 2.3993 - accuracy: 0.1545 - val_loss: 1.9761 - val_accuracy: 0.2795\n",
      "Epoch 2/5\n",
      "313/313 [==============================] - 24s 77ms/step - loss: 1.9899 - accuracy: 0.2607 - val_loss: 1.9403 - val_accuracy: 0.2909\n",
      "Epoch 3/5\n",
      "313/313 [==============================] - 24s 77ms/step - loss: 1.8946 - accuracy: 0.3065 - val_loss: 1.8948 - val_accuracy: 0.3148\n",
      "Epoch 4/5\n",
      "313/313 [==============================] - 24s 78ms/step - loss: 1.8654 - accuracy: 0.3213 - val_loss: 1.9154 - val_accuracy: 0.2952\n",
      "Epoch 5/5\n",
      "313/313 [==============================] - 24s 77ms/step - loss: 1.8254 - accuracy: 0.3248 - val_loss: 1.7930 - val_accuracy: 0.3420\n"
     ]
    }
   ],
   "source": [
    "# Creating the MLP model with 1536 neurons in the hidden layer  \n",
    "mlp = Sequential()\n",
    "mlp.add(Flatten(input_shape = X_train_norm.shape[1:]))\n",
    "mlp.add(Dense(1536, activation='sigmoid'))\n",
    "mlp.add(Dense(1536, activation='sigmoid'))\n",
    "mlp.add(Dense(10, activation='softmax'))\n",
    "# compile the model\n",
    "mlp.compile(loss='categorical_crossentropy', optimizer='adam', metrics=['accuracy'])\n",
    "# Trainging the model as per given problem statement parameters\n",
    "mlp_model = mlp.fit(X_train_norm, y_train_encoding,validation_data = (X_test_norm, y_test_encoding), batch_size=32, epochs= 5)"
   ]
  },
  {
   "cell_type": "markdown",
   "metadata": {
    "id": "ck-3WxrL6Yb2"
   },
   "source": [
    "**Creating the MLP model with 2000 neurons in the hidden layer**"
   ]
  },
  {
   "cell_type": "code",
   "execution_count": 22,
   "metadata": {
    "colab": {
     "base_uri": "https://localhost:8080/"
    },
    "id": "WUOFpnoX6Yvc",
    "outputId": "b9a5ef19-8c08-4d1b-f672-98feba870de3"
   },
   "outputs": [
    {
     "name": "stdout",
     "output_type": "stream",
     "text": [
      "Epoch 1/5\n",
      "313/313 [==============================] - 34s 108ms/step - loss: 2.6056 - accuracy: 0.1445 - val_loss: 2.0803 - val_accuracy: 0.2143\n",
      "Epoch 2/5\n",
      "313/313 [==============================] - 33s 105ms/step - loss: 2.0296 - accuracy: 0.2554 - val_loss: 2.0208 - val_accuracy: 0.2735\n",
      "Epoch 3/5\n",
      "313/313 [==============================] - 33s 107ms/step - loss: 1.9608 - accuracy: 0.2839 - val_loss: 1.8987 - val_accuracy: 0.3067\n",
      "Epoch 4/5\n",
      "313/313 [==============================] - 33s 107ms/step - loss: 1.9076 - accuracy: 0.2965 - val_loss: 1.8462 - val_accuracy: 0.3295\n",
      "Epoch 5/5\n",
      "313/313 [==============================] - 34s 107ms/step - loss: 1.8654 - accuracy: 0.3188 - val_loss: 1.8861 - val_accuracy: 0.3221\n"
     ]
    }
   ],
   "source": [
    "# Creating the MLP model with 2000 neurons in the hidden layer \n",
    "mlp = Sequential()\n",
    "mlp.add(Flatten(input_shape = X_train_norm.shape[1:]))\n",
    "mlp.add(Dense(2000, activation='sigmoid'))\n",
    "mlp.add(Dense(2000, activation='sigmoid'))\n",
    "mlp.add(Dense(10, activation='softmax'))\n",
    "# compile the model\n",
    "mlp.compile(loss='categorical_crossentropy', optimizer='adam', metrics=['accuracy'])\n",
    "# Trainging the model as per given problem statement parameters\n",
    "mlp_model = mlp.fit(X_train_norm, y_train_encoding,validation_data = (X_test_norm, y_test_encoding), batch_size=32, epochs= 5)"
   ]
  },
  {
   "cell_type": "markdown",
   "metadata": {
    "id": "6it0Pndi676s"
   },
   "source": [
    "### Comments on increasing the number of neurons in initial MLP model\n",
    "\n",
    "| Number of neurons | Train Accuracy | Validation Accuracy | Train Loss | Validation Loss\n",
    "| :-: | :-: | :-: | :-: | :-: |\n",
    "| 300 | 35% | 36% | 1.78 | 1.75 |\n",
    "| 450 | 35% | 35% | 1.79 | 1.78 |\n",
    "| 1024 | 33% | 35% | 1.80 | 1.79 |\n",
    "| 1536 | 32% | 34% | 1.82 | 1.79 |\n",
    "| 2000 | 31% | 32% | 1.86 | 1.88 |\n",
    "\n",
    "*   From the results of above models of varying the number of units within each hidden layer of the model, we can conclude that as the number of units  increases in each hidden layer, the accuracy started dropping, hinting towards the model being overfit.\n",
    "*   We have seen that the MLP model with 300 neurons has the highest training and validation accuracy as compared to other models with increased neurons.\n",
    "*   In conclusion, based on all the above resuls it is clearly evident that a proper trade-off needs to be performed in terms of the number of layers and number of units within them.\n"
   ]
  },
  {
   "cell_type": "markdown",
   "metadata": {
    "id": "UwpsIQxFk0YI"
   },
   "source": [
    "## **Part 2) CNN**"
   ]
  },
  {
   "cell_type": "markdown",
   "metadata": {
    "id": "K9JUWPjgk6qY"
   },
   "source": [
    "### a) Building a CNN as per problem statement\n",
    "\n",
    "\n",
    "*   2D Convolutional layer with 64 filters (size of 3x3) and ReLU activ\n",
    "ation function\n",
    "*  2D Convolutional layer with 64 filters (size of 3x3) and ReLU activation function\n",
    "*  Fully connected (Dense) layer with 512 units and a sigmoid activation function\n",
    "*  Fully connected layer with 512 units and a sigmoid activation function\n",
    "*  Output layer with the suitable activation function and number of neurons for the classification task\n",
    "\n"
   ]
  },
  {
   "cell_type": "code",
   "execution_count": 21,
   "metadata": {
    "id": "NtJja0Cuk-Eq"
   },
   "outputs": [],
   "source": [
    "# Creating the CNN model\n",
    "cnn = Sequential()\n",
    "cnn.add(Conv2D(filters=64, kernel_size=(3,3), padding='same', activation='relu', input_shape=(32, 32, 3)))\n",
    "cnn.add(Conv2D(filters=64, kernel_size=(3,3), padding='same', activation='relu'))\n",
    "cnn.add(Flatten())\n",
    "cnn.add(Dense(512, activation='sigmoid'))\n",
    "cnn.add(Dense(512, activation='sigmoid'))\n",
    "cnn.add(Dense(10, activation='softmax'))"
   ]
  },
  {
   "cell_type": "code",
   "execution_count": 22,
   "metadata": {
    "id": "Tirv4khDleci"
   },
   "outputs": [],
   "source": [
    "# compiling the model\n",
    "cnn.compile(loss='categorical_crossentropy', optimizer='adam', metrics=['accuracy'])"
   ]
  },
  {
   "cell_type": "code",
   "execution_count": 23,
   "metadata": {
    "id": "RelwJOJsruWe"
   },
   "outputs": [],
   "source": [
    "# For calculating the training time\n",
    "start_time = time.time()"
   ]
  },
  {
   "cell_type": "code",
   "execution_count": 24,
   "metadata": {
    "colab": {
     "base_uri": "https://localhost:8080/"
    },
    "id": "4EcLEZvgmC9w",
    "outputId": "4a8d88f5-6bfc-422d-fc50-218add8e056c"
   },
   "outputs": [
    {
     "name": "stdout",
     "output_type": "stream",
     "text": [
      "Epoch 1/5\n",
      "313/313 [==============================] - 137s 435ms/step - loss: 2.0866 - accuracy: 0.2440 - val_loss: 1.4942 - val_accuracy: 0.4585\n",
      "Epoch 2/5\n",
      "313/313 [==============================] - 133s 426ms/step - loss: 1.3780 - accuracy: 0.5071 - val_loss: 1.3653 - val_accuracy: 0.5026\n",
      "Epoch 3/5\n",
      "313/313 [==============================] - 133s 425ms/step - loss: 1.0033 - accuracy: 0.6439 - val_loss: 1.4002 - val_accuracy: 0.5073\n",
      "Epoch 4/5\n",
      "313/313 [==============================] - 133s 426ms/step - loss: 0.6067 - accuracy: 0.7921 - val_loss: 1.4359 - val_accuracy: 0.5427\n",
      "Epoch 5/5\n",
      "313/313 [==============================] - 133s 426ms/step - loss: 0.2323 - accuracy: 0.9394 - val_loss: 1.6526 - val_accuracy: 0.5373\n"
     ]
    }
   ],
   "source": [
    "# Training the model as per problem statement\n",
    "cnn_1_model = cnn.fit(X_train_norm, y_train_encoding, batch_size=32,validation_data = (X_test_norm, y_test_encoding), epochs= 5,shuffle=True)"
   ]
  },
  {
   "cell_type": "code",
   "execution_count": 25,
   "metadata": {
    "colab": {
     "base_uri": "https://localhost:8080/"
    },
    "id": "JhEumP-ordB-",
    "outputId": "1c01915b-180c-47f2-8adc-efe9b4adaa54"
   },
   "outputs": [
    {
     "name": "stdout",
     "output_type": "stream",
     "text": [
      "Total training time taken by CNN model is 705.9546673297882 seconds\n"
     ]
    }
   ],
   "source": [
    "end_time = time.time()\n",
    "print('Total training time taken by CNN model is '+ str(end_time - start_time) + ' seconds')"
   ]
  },
  {
   "cell_type": "markdown",
   "metadata": {
    "id": "e24jebsFqxaD"
   },
   "source": [
    "### Plotting the training and validation accuracies of the CNN1 model"
   ]
  },
  {
   "cell_type": "code",
   "execution_count": 26,
   "metadata": {
    "colab": {
     "base_uri": "https://localhost:8080/",
     "height": 294
    },
    "id": "E3Wa42ZQm-x3",
    "outputId": "847bf6ee-4dd8-41fe-8cfb-2b7096e1c4f4"
   },
   "outputs": [
    {
     "data": {
      "image/png": "[encoded data removed]",
      "text/plain": [
       "<Figure size 432x288 with 1 Axes>"
      ]
     },
     "metadata": {
      "needs_background": "light"
     },
     "output_type": "display_data"
    }
   ],
   "source": [
    "#Computing the model loss\n",
    "plt.plot(cnn_1_model.history['loss'])\n",
    "plt.plot(cnn_1_model.history['val_loss'])\n",
    "plt.legend(['Train', 'Test'])\n",
    "plt.xlabel('Epochs')\n",
    "plt.ylabel('Loss')\n",
    "plt.title(\"Model Loss\")\n",
    "plt.show()"
   ]
  },
  {
   "cell_type": "code",
   "execution_count": 27,
   "metadata": {
    "colab": {
     "base_uri": "https://localhost:8080/",
     "height": 294
    },
    "id": "VWHjdu64nBnj",
    "outputId": "38ca89d5-4baf-49f8-c870-b473ffdc7bfc"
   },
   "outputs": [
    {
     "data": {
      "image/png": "[encoded data removed]",
      "text/plain": [
       "<Figure size 432x288 with 1 Axes>"
      ]
     },
     "metadata": {
      "needs_background": "light"
     },
     "output_type": "display_data"
    }
   ],
   "source": [
    "# Computing the model accuracy\n",
    "plt.plot(cnn_1_model.history['accuracy'])\n",
    "plt.plot(cnn_1_model.history['val_accuracy'])\n",
    "plt.legend(['Train', 'Test'])\n",
    "plt.xlabel('Epochs')\n",
    "plt.ylabel('Accuracy')\n",
    "plt.title(\"Model Accuracy\")\n",
    "plt.show()"
   ]
  },
  {
   "cell_type": "markdown",
   "metadata": {
    "id": "z43dQdkTsDld"
   },
   "source": [
    "### Comments on the above CNN1 model :-\n",
    "\n",
    "- From the first plot of Model Loss of CNN1, we have seen that as number of epochs are increasing, the model loss of the training dataset decreasing at a constant rate, whereas the model loss of the validation set/test set intially decrerases, but then starts increasing\n",
    "- Similarly, the model accuracy of the training dataset increases significantly to about 88.3%, whereas the model accuracy of the validation set/test set dataset stayed constant as epoch increases.\n",
    "- It is computationally expensive because this model took around 15 mintues just to train of 5 epochs.\n",
    "- Above result shows that CNN1 model requires a update in terms the type of connections, such as incorporating Max pooling layer to down sample and also incorporate several drop out layers in between the dense layers to generalize the model in best way possible. Which help us to train the model faster.\n",
    "\n",
    "- Even though, if the model trained for more epoch it will not be useful as it's dense connection will prevent it from learning, as we have seen in above that it will have constant accuracy. So these number of epoch are good for this kind of a model.\n"
   ]
  },
  {
   "cell_type": "markdown",
   "metadata": {
    "id": "Qg2o6Xv0suvF"
   },
   "source": [
    "## **Part 3) CNN2**"
   ]
  },
  {
   "cell_type": "code",
   "execution_count": 28,
   "metadata": {
    "id": "gup882WOsvJH"
   },
   "outputs": [],
   "source": [
    "cnn2 = Sequential()\n",
    "cnn2.add(Conv2D(filters=64, kernel_size=(3,3), padding='same', activation='relu', input_shape=(32, 32, 3)))\n",
    "cnn2.add(MaxPooling2D(pool_size=(2,2), strides=(2,2), padding='same'))\n",
    "cnn2.add(Conv2D(filters=64, kernel_size=(3,3), padding='same', activation='relu'))\n",
    "cnn2.add(MaxPooling2D(pool_size=(2,2), strides=(2,2), padding='same'))\n",
    "cnn2.add(Flatten())\n",
    "cnn2.add(Dense(512, activation='sigmoid'))\n",
    "cnn2.add(Dropout(0.2))\n",
    "cnn2.add(Dense(512, activation='sigmoid'))\n",
    "cnn2.add(Dropout(0.2))\n",
    "cnn2.add(Dense(10, activation='softmax'))"
   ]
  },
  {
   "cell_type": "code",
   "execution_count": 29,
   "metadata": {
    "id": "aHOqDH3Os62Z"
   },
   "outputs": [],
   "source": [
    "# compile the model\n",
    "cnn2.compile(loss='categorical_crossentropy', optimizer='adam', metrics=['accuracy'])"
   ]
  },
  {
   "cell_type": "code",
   "execution_count": 30,
   "metadata": {
    "id": "qstAbKUTtEff"
   },
   "outputs": [],
   "source": [
    "# For calculating the training time\n",
    "start_time = time.time()"
   ]
  },
  {
   "cell_type": "code",
   "execution_count": 31,
   "metadata": {
    "colab": {
     "base_uri": "https://localhost:8080/"
    },
    "id": "NHKj5Aoks_Ub",
    "outputId": "bc0df488-a20e-4a85-edbe-fb6345320bbc"
   },
   "outputs": [
    {
     "name": "stdout",
     "output_type": "stream",
     "text": [
      "Epoch 1/5\n",
      "313/313 [==============================] - 28s 88ms/step - loss: 2.1806 - accuracy: 0.2001 - val_loss: 1.5949 - val_accuracy: 0.4071\n",
      "Epoch 2/5\n",
      "313/313 [==============================] - 27s 87ms/step - loss: 1.5599 - accuracy: 0.4195 - val_loss: 1.4236 - val_accuracy: 0.4773\n",
      "Epoch 3/5\n",
      "313/313 [==============================] - 28s 89ms/step - loss: 1.3415 - accuracy: 0.5202 - val_loss: 1.2855 - val_accuracy: 0.5271\n",
      "Epoch 4/5\n",
      "313/313 [==============================] - 28s 89ms/step - loss: 1.1892 - accuracy: 0.5712 - val_loss: 1.1854 - val_accuracy: 0.5726\n",
      "Epoch 5/5\n",
      "313/313 [==============================] - 28s 91ms/step - loss: 1.0296 - accuracy: 0.6322 - val_loss: 1.2284 - val_accuracy: 0.5654\n"
     ]
    }
   ],
   "source": [
    "cnn_2_model = cnn2.fit(X_train_norm, y_train_encoding, batch_size=32,validation_data = (X_test_norm, y_test_encoding), epochs= 5)"
   ]
  },
  {
   "cell_type": "code",
   "execution_count": 32,
   "metadata": {
    "colab": {
     "base_uri": "https://localhost:8080/"
    },
    "id": "6_MrAABQtXDj",
    "outputId": "c961a2b2-f3a1-4f3c-9bd1-756872cfe9e7"
   },
   "outputs": [
    {
     "name": "stdout",
     "output_type": "stream",
     "text": [
      "Total training time taken by CNN model is 149.95056009292603 seconds\n"
     ]
    }
   ],
   "source": [
    "end_time = time.time()\n",
    "print('Total training time taken by CNN model is '+ str(end_time - start_time) + ' seconds')"
   ]
  },
  {
   "cell_type": "code",
   "execution_count": 33,
   "metadata": {
    "colab": {
     "base_uri": "https://localhost:8080/",
     "height": 294
    },
    "id": "Af4n11DStfNV",
    "outputId": "77eab33e-e520-4632-a34b-25e37ef88f0e"
   },
   "outputs": [
    {
     "data": {
      "image/png": "[encoded data removed]",
      "text/plain": [
       "<Figure size 432x288 with 1 Axes>"
      ]
     },
     "metadata": {
      "needs_background": "light"
     },
     "output_type": "display_data"
    }
   ],
   "source": [
    "#Computing the model loss\n",
    "plt.plot(cnn_2_model.history['loss'])\n",
    "plt.plot(cnn_2_model.history['val_loss'])\n",
    "plt.legend(['Train', 'Test'])\n",
    "plt.xlabel('Epochs')\n",
    "plt.ylabel('Loss')\n",
    "plt.title(\"Model Loss\")\n",
    "plt.show()"
   ]
  },
  {
   "cell_type": "code",
   "execution_count": 34,
   "metadata": {
    "colab": {
     "base_uri": "https://localhost:8080/",
     "height": 294
    },
    "id": "aSYfi-mFtkkH",
    "outputId": "51f35ac8-b1ed-48f4-dc0e-21c538b3026e"
   },
   "outputs": [
    {
     "data": {
      "image/png": "[encoded data removed]",
      "text/plain": [
       "<Figure size 432x288 with 1 Axes>"
      ]
     },
     "metadata": {
      "needs_background": "light"
     },
     "output_type": "display_data"
    }
   ],
   "source": [
    "# Computing the model accuracy\n",
    "plt.plot(cnn_2_model.history['accuracy'])\n",
    "plt.plot(cnn_2_model.history['val_accuracy'])\n",
    "plt.legend(['Train', 'Test'])\n",
    "plt.xlabel('Epochs')\n",
    "plt.ylabel('Accuracy')\n",
    "plt.title(\"Model Accuracy\")\n",
    "plt.show()"
   ]
  },
  {
   "cell_type": "markdown",
   "metadata": {
    "id": "dv0uCWSduRVK"
   },
   "source": [
    "### Comments on the above CNN2 model:-\n",
    "\n",
    "- From the first plot of Model Loss of CNN2, we have seen that as number of epochs are increasing, the model loss of the training dataset and testing dataset decreases at a similar rate.\n",
    "- Whereas in second plot, accuracy increases at similar rates for both the training and the test datset.\n",
    "- In comparison with CNN1, the validation accuracy has also improved.\n",
    "- From above points we can say that adding max-pooling layers and drop-out layers help the model in being more tolerent towards translational invariance and helps in developing a more generalized model.\n",
    "- In comparison with CNN1, this CNN2 model took only 4 - 5 minutes of the computational training time, so addition of max pooling and dropout layer helped in decreasing the computational time as well.\n",
    "- From the above plot we can say that as number of epochs increases, will help the model to train much better and model accuracy will also increases. \n"
   ]
  },
  {
   "cell_type": "markdown",
   "metadata": {
    "id": "wL7YkuQfNbDZ"
   },
   "source": [
    "### **MLP Vs CNNs**\n",
    "\n",
    "The comparison of performances for MLP and CNN models :\n",
    "\n",
    "|  | Training Accuracy | Validation Accuracy | Training Loss | Validation Loss |\n",
    "| --- | --- | --- | --- | --- |\n",
    "| MLP | 34% | 34% | 1.78 | 1.81 |\n",
    "| CNN1 | 94% | 54% | 0.22 | 1.60 |\n",
    "| CNN2 | 61% | 60% | 1.07 | 1.11 |\n",
    "\n",
    "The major differences in MLP and CNN models as per above analysis :\n",
    "- CNN model has much more better accuracies on training dataset as compared to MLP model, keep the same number of epochs\n",
    "- We know that CNN architecture uses  filters for image feature extraction, but MLP model only update the weights, so CNN is the best option when dealing with image datset.\n",
    "- MLP models are not that much computational expensive as compared to CNN. It means MLP model trains faster than CNN. But this is not significant as CNN performs better in feature extraction.\n",
    "- CNN2 model performed better than MLP and CNN1 model, because of dense structure of the MLP and CNN1 model as it prevents it to improve as we increase the number of epochs."
   ]
  },
  {
   "cell_type": "markdown",
   "metadata": {
    "id": "5W7U9-ZVPZgX"
   },
   "source": [
    "### **Recommendations to improve the network**\n",
    "\n",
    "- We should increase the number of epochs for CNN2 model as we have seen it helps in increasing the accuracy. So we should keep atleast 50 epochs.\n",
    "- Adamax optimizer  is good than Adam, So considering Adamax optimizer will help to improve the model.\n",
    "- From above CNN2 model we have seen that adding max-pooling and drop layer helps to get better result. So we can increase the number of convolution layers as we have large datset with max-pooling and dropout layer.\n",
    "- In the last few years, several different types of architectures have been proposed, the inception architecture is one such type of deep convlutional learning network, which can significantly improve the output.\n",
    "- Additionally, finding the approporiate learning rate and momentum for the model can most certainly help. "
   ]
  },
  {
   "cell_type": "markdown",
   "metadata": {},
   "source": [
    "### References :\n",
    "- https://towardsdatascience.com/deep-learning-with-cifar-10-image-classification-64ab92110d79\n",
    "- https://www.tensorflow.org/tutorials/images/cnn\n",
    "- https://datascience.stackexchange.com/questions/24459/how-to-give-cifar-10-as-an-input-to-mlp\n",
    "- https://www.kaggle.com/guesejustin/object-recognition-mlp-cnn-efficientnet-on-cifar\n",
    "- https://github.com/codebasics/deep-learning-keras-tf-tutorial/blob/master/16_cnn_cifar10_small_image_classification/cnn_cifar10_dataset.ipynb\n",
    "- https://pvss.github.io/MLP+of+CIFAR-10\n",
    "- https://github.com/vrakesh/CIFAR-10-Classifier/blob/master/cifar_classifier.py\n",
    "- https://www.youtube.com/watch?v=7HPwo4wnJeA&ab_channel=codebasics\n",
    "- https://github.com/vrakesh/CIFAR-10-Classifier\n",
    "- https://machinelearningmastery.com/how-to-develop-a-cnn-from-scratch-for-cifar-10-photo-classification/\n",
    "- https://appliedmachinelearning.blog/2018/03/24/achieving-90-accuracy-in-object-recognition-task-on-cifar-10-dataset-with-keras-convolutional-neural-networks/\n",
    "- https://stats.stackexchange.com/questions/198463/how-to-increase-accuracy-of-all-cnn-c-on-cifar-10-test-set\n",
    "- https://www.machinecurve.com/index.php/2020/02/09/how-to-build-a-convnet-for-cifar-10-and-cifar-100-classification-with-keras/\n",
    "- https://www.kaggle.com/sid2412/cifar10-cnn-model-85-97-accuracy\n",
    "- https://medium.com/@udolf15/building-a-image-classifier-using-cnn-with-cifar-10-dataset-5682afa4f51"
   ]
  },
  {
   "cell_type": "code",
   "execution_count": null,
   "metadata": {},
   "outputs": [],
   "source": []
  }
 ],
 "metadata": {
  "colab": {
   "name": "657 A3 Q1_Rahul.ipynb",
   "provenance": []
  },
  "kernelspec": {
   "display_name": "Python 3",
   "language": "python",
   "name": "python3"
  },
  "language_info": {
   "codemirror_mode": {
    "name": "ipython",
    "version": 3
   },
   "file_extension": ".py",
   "mimetype": "text/x-python",
   "name": "python",
   "nbconvert_exporter": "python",
   "pygments_lexer": "ipython3",
   "version": "3.8.5"
  }
 },
 "nbformat": 4,
 "nbformat_minor": 1
}
